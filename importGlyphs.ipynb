{
 "cells": [
  {
   "cell_type": "code",
   "execution_count": 9,
   "metadata": {
    "collapsed": true
   },
   "outputs": [],
   "source": [
    "import csv, re"
   ]
  },
  {
   "cell_type": "code",
   "execution_count": 10,
   "metadata": {
    "collapsed": false
   },
   "outputs": [],
   "source": [
    "# read the data from local file\n",
    "file = \"data/glyphs.csv\"\n",
    "with open(file, 'r', encoding='utf-8') as data:\n",
    "    reader = csv.reader(data)\n",
    "    datalist = list(reader)"
   ]
  },
  {
   "cell_type": "code",
   "execution_count": 11,
   "metadata": {
    "collapsed": false
   },
   "outputs": [
    {
     "name": "stdout",
     "output_type": "stream",
     "text": [
      "['9b84b972-a699-4043-8cf6-83825086bfa8', 'BM 26498', 'KÁD', 'kát', 'I.ár-kát-DINGIR-SIG5', 'PN', '9b84b972-a699-4043-8cf6-83825086bfa8.png']\n",
      "['022176bb-976b-4ed1-8cb5-f63f938197ee', 'NCBT 558', 'KÁD', 'KÁD', 'I.d+EN-KÁD', 'PN', '022176bb-976b-4ed1-8cb5-f63f938197ee.png']\n",
      "['69fabf4f-c5f6-4eb3-a97f-5a7fe73f9940', 'NCBT 1093', 'KÁD', 'kát', 'sik-kát', '', '69fabf4f-c5f6-4eb3-a97f-5a7fe73f9940.png']\n",
      "['e2473aeb-395e-498d-a069-95e0f1351078', 'BE 10 14', 'KÁD', 'kát', 'na-bal-kát-ta-nu', '', 'e2473aeb-395e-498d-a069-95e0f1351078.png']\n",
      "['24a21d3f-f0b7-428a-ac03-2d4db47d199c', 'YOS 21 214', 'KÁD', 'kát', 'na-bal-kát-ta-nu', '', '24a21d3f-f0b7-428a-ac03-2d4db47d199c.png']\n",
      "['4d53a7e1-7993-401c-a92c-23794a6a4533', 'BM 42408', 'KÁD', 'KÁD', 'I.d+AG-KÁD', 'PN', '4d53a7e1-7993-401c-a92c-23794a6a4533.png']\n",
      "['474e0967-9d3b-4db3-8394-05decb9aae0b', 'BE 9 61', 'KÁD', 'KÁD', 'I.d+EN.LÍL-KÁD', 'PN', '474e0967-9d3b-4db3-8394-05decb9aae0b.png']\n",
      "['586521ca-3cfc-489c-9edd-6c84ae5ac95c', 'NBC 6114', 'KÁD', 'kát', 'na-bal-kát-ta-nu', '', '586521ca-3cfc-489c-9edd-6c84ae5ac95c.png']\n",
      "['8687eb85-a8f6-42f8-b9f7-625a6f7b22d9', 'YBC 9448', 'KÁD', 'kát', 'na-bal-kát-ta-nu', '', '8687eb85-a8f6-42f8-b9f7-625a6f7b22d9.png']\n"
     ]
    }
   ],
   "source": [
    "for row in datalist[1:]:\n",
    "    temp_tablet, _ = Tablet.objects.get_or_create(text_reference=row[1])\n",
    "    try:\n",
    "        temp_sign, _ = Sign.objects.get_or_create(sign_name=row[2])\n",
    "        temp_glyph, _ = Glyph.objects.get_or_create(identifier=row[0], sign=temp_sign)\n",
    "        temp_glyph.tablet = temp_tablet\n",
    "        #temp_glyph.sign = temp_sign\n",
    "        temp_glyph.reading = row[3]\n",
    "        temp_glyph.context = row[4]\n",
    "        temp_glyph.note = row[5]\n",
    "        temp_glyph.image = \"glyph_img/{}\".format(row[6])\n",
    "        temp_glyph.save()\n",
    "    except:\n",
    "        print(row)\n",
    "    "
   ]
  },
  {
   "cell_type": "code",
   "execution_count": 8,
   "metadata": {
    "collapsed": true
   },
   "outputs": [],
   "source": [
    "#for x in Glyph.objects.all():\n",
    "    #x.delete()"
   ]
  },
  {
   "cell_type": "code",
   "execution_count": null,
   "metadata": {
    "collapsed": true
   },
   "outputs": [],
   "source": []
  }
 ],
 "metadata": {
  "kernelspec": {
   "display_name": "Django Shell-Plus",
   "language": "python",
   "name": "django_extensions"
  },
  "language_info": {
   "codemirror_mode": {
    "name": "ipython",
    "version": 3
   },
   "file_extension": ".py",
   "mimetype": "text/x-python",
   "name": "python",
   "nbconvert_exporter": "python",
   "pygments_lexer": "ipython3",
   "version": "3.4.4"
  }
 },
 "nbformat": 4,
 "nbformat_minor": 0
}
