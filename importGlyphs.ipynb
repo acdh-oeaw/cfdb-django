{
 "cells": [
  {
   "cell_type": "code",
   "execution_count": 3,
   "metadata": {
    "collapsed": true
   },
   "outputs": [],
   "source": [
    "import csv, re"
   ]
  },
  {
   "cell_type": "code",
   "execution_count": 4,
   "metadata": {
    "collapsed": false
   },
   "outputs": [],
   "source": [
    "# read the data from local file\n",
    "file = \"data/glyphs.csv\"\n",
    "with open(file, 'r', encoding='utf-8') as data:\n",
    "    reader = csv.reader(data)\n",
    "    datalist = list(reader)"
   ]
  },
  {
   "cell_type": "code",
   "execution_count": 5,
   "metadata": {
    "collapsed": false
   },
   "outputs": [],
   "source": [
    "for row in datalist[1:]:\n",
    "    temp_tablet, _ = Tablet.objects.get_or_create(text_reference=row[1])\n",
    "    temp_sign, _ = Sign.objects.get_or_create(sign_name=row[2])\n",
    "    temp_glyph, _ = Glyph.objects.get_or_create(identifier=row[0])\n",
    "    temp_glyph.tablet = temp_tablet\n",
    "    temp_glyph.sign = temp_sign\n",
    "    temp_glyph.reading = row[3]\n",
    "    temp_glyph.context = row[4]\n",
    "    temp_glyph.note = row[5]\n",
    "    temp_glyph.image = \"glyph_img/{}\".format(row[6])\n",
    "    temp_glyph.save()\n",
    "    "
   ]
  },
  {
   "cell_type": "code",
   "execution_count": null,
   "metadata": {
    "collapsed": true
   },
   "outputs": [],
   "source": []
  }
 ],
 "metadata": {
  "kernelspec": {
   "display_name": "Django Shell-Plus",
   "language": "python",
   "name": "django_extensions"
  },
  "language_info": {
   "codemirror_mode": {
    "name": "ipython",
    "version": 3
   },
   "file_extension": ".py",
   "mimetype": "text/x-python",
   "name": "python",
   "nbconvert_exporter": "python",
   "pygments_lexer": "ipython3",
   "version": "3.4.4"
  }
 },
 "nbformat": 4,
 "nbformat_minor": 0
}
