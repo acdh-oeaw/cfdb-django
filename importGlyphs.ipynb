{
 "cells": [
  {
   "cell_type": "code",
   "execution_count": 2,
   "metadata": {
    "collapsed": true
   },
   "outputs": [],
   "source": [
    "import csv, re"
   ]
  },
  {
   "cell_type": "code",
   "execution_count": 3,
   "metadata": {
    "collapsed": false
   },
   "outputs": [],
   "source": [
    "# read the data from local file\n",
    "file = \"data/glyphs.csv\"\n",
    "with open(file, 'r', encoding='utf-8') as data:\n",
    "    reader = csv.reader(data)\n",
    "    datalist = list(reader)"
   ]
  },
  {
   "cell_type": "code",
   "execution_count": null,
   "metadata": {
    "collapsed": false
   },
   "outputs": [
    {
     "name": "stdout",
     "output_type": "stream",
     "text": [
      "['7868344e-1a0f-4291-821d-501d9b7d753e', 'BM 94594', 'SI', 'si', '1 bán ka-si-ia', '', '7868344e-1a0f-4291-821d-501d9b7d753e.png']\n",
      "['e024e26a-f082-4f5b-96a2-ed4530e36625', 'BM 94594', 'LÁ', 'lal', 'i-bal-lal-ma', '', 'e024e26a-f082-4f5b-96a2-ed4530e36625.png']\n",
      "['8a61933d-042f-4118-acd6-717113242e0f', 'BM 94594', 'ŠU', 'šu', 'a-na nap-ta-nu šá I.šu-la-a i-na[m-din]', 'PN', '8a61933d-042f-4118-acd6-717113242e0f.png']\n",
      "['96b65c16-7853-43fe-bdf6-9bdf3fa35cf8', 'BM 94594', 'Ù', 'ù', 'pu-ut KAŠ.Ú.SA har-ṣu ù te-bu-[x x]', '', '96b65c16-7853-43fe-bdf6-9bdf3fa35cf8.png']\n",
      "['e61d0abb-895d-41a3-9958-bd83cac53151', 'YOS 17 286', 'ŠÀ', 'ŠÀ', 'A.ŠÀ', '', 'e61d0abb-895d-41a3-9958-bd83cac53151.png']\n",
      "['6ce8de47-3bb9-4a90-b501-43d71aafb04e', 'YOS 17 286', 'KA', 'ZÚ', 'ZÚ.LUM.MA', '', '6ce8de47-3bb9-4a90-b501-43d71aafb04e.png']\n",
      "['f06673ac-e403-4bd9-a432-eeaddbded8e7', 'YOS 17 286', 'LU', 'lu', 'I.Gi-mil-lu', '', 'f06673ac-e403-4bd9-a432-eeaddbded8e7.png']\n",
      "['5647c2ef-e70d-4e46-8cba-615a651a19f8', 'YOS 17 286', 'ŠU', 'šu', 'na-šu-ú', '', '5647c2ef-e70d-4e46-8cba-615a651a19f8.png']\n",
      "['5ed9d997-e343-49fe-86da-50c9aabcc54e', 'NCBT 524', 'LA', 'la', 'I.Ba-la-ṭu', 'PN', '5ed9d997-e343-49fe-86da-50c9aabcc54e.png']\n",
      "['658bf955-23ed-46b3-b91a-edef0430b0c4', 'NCBT 524', 'ṬU', 'ṭu', 'I.Ba-la-ṭu', '', '658bf955-23ed-46b3-b91a-edef0430b0c4.png']\n",
      "['9fe958e1-043e-4271-a089-c42e36dc7239', 'NCBT 524', 'SI', 'se', 'se-me-re-e', '', '9fe958e1-043e-4271-a089-c42e36dc7239.png']\n",
      "['6bdd0b61-26b0-4e44-9f83-c8191fd29f12', 'NCBT 524', 'KA', 'ka', 'É ka-re-e', '', '6bdd0b61-26b0-4e44-9f83-c8191fd29f12.png']\n",
      "['f2e9d43f-e748-4905-8be9-7c43c2f6895e', 'NCBT 524', 'AB', 'ab', 'ṣa-ab-ti', '', 'f2e9d43f-e748-4905-8be9-7c43c2f6895e.png']\n",
      "['7106dabf-e548-4926-87a4-7335c1c09db8', 'NCBT 524', 'LU', 'lu', 'i-bal-lu-ṭu', '', '7106dabf-e548-4926-87a4-7335c1c09db8.png']\n",
      "['bb3cc608-5842-4cca-9fbc-0ee36dfb350c', 'NCBT 524', 'ŠÀ', 'ŠÀ', 'LÚ.ŠÀ.TAM', '', 'bb3cc608-5842-4cca-9fbc-0ee36dfb350c.png']\n",
      "['7b9eff90-c706-4470-aac8-1e627e1ea4e8', 'NCBT 524', 'ŠU', 'šu', 'na-šu-ú', '', '7b9eff90-c706-4470-aac8-1e627e1ea4e8.png']\n",
      "['5e45ad5d-bcfa-4fc1-a839-992c48e16ccf', 'NCBT 524', 'Ú', 'ú', 'na-šu-ú', '', '5e45ad5d-bcfa-4fc1-a839-992c48e16ccf.png']\n",
      "['ee471f23-580f-4668-81eb-d2be7b4dc31c', 'NCBT 524', 'SU', 'su', '[er]-re-és-su', '', 'ee471f23-580f-4668-81eb-d2be7b4dc31c.png']\n",
      "['35809f37-bf72-43ef-a1ad-b7f7d58a8457', 'NCBT 524', 'ÁŠ', 'áš', 'i-na-áš-šu-ú', '', '35809f37-bf72-43ef-a1ad-b7f7d58a8457.png']\n",
      "['5e36b779-b282-4b8e-a215-c6a55867ae67', 'NCBT 524', 'KU', 'ku', 'ib-ba-ku-nim-ma', '', '5e36b779-b282-4b8e-a215-c6a55867ae67.png']\n",
      "['1fc09734-7a8c-4c92-9ef6-be92a4a1fee3', 'NCBT 524', 'UŠ', 'uš', 'i-nam-din-nu-uš', '', '1fc09734-7a8c-4c92-9ef6-be92a4a1fee3.png']\n",
      "['2bd8c667-27a9-469b-a82f-3967bca13714', 'NCBT 524', 'IŠ', 'mil', 'I.Gi-mil-lu', 'PN', '2bd8c667-27a9-469b-a82f-3967bca13714.png']\n",
      "['724c7953-7716-41e4-ac8e-264882578d69', 'NBC 6125', 'GA', 'GA', 'NÍG.GA', '', '724c7953-7716-41e4-ac8e-264882578d69.png']\n",
      "['a417451e-c7fb-4030-b07d-4ba74f9d5445', 'NBC 6125', 'ŠI', 'ši', 'I.ši-rik-tú-d.MAŠ', 'PN', 'a417451e-c7fb-4030-b07d-4ba74f9d5445.png']\n",
      "['0b23b03b-cd30-4f20-be92-78b279d43bf7', 'NBC 6125', 'ŠU', 'ŠU', 'ŠU+2', 'ligature of ŠU and II', '0b23b03b-cd30-4f20-be92-78b279d43bf7.png']\n",
      "['2d385e60-fc78-4a55-9049-9e9071d17dec', 'NBC 6125', 'IS', 'GIŠ', 'I.li-GIŠ', 'PN', '2d385e60-fc78-4a55-9049-9e9071d17dec.png']\n",
      "['5fd4ec25-9737-4ba2-a989-8ae09ef6782c', 'NBC 6125', 'SU', 'su', 'I.d.UTU-pa-<qid>-su-nu', 'PN', '5fd4ec25-9737-4ba2-a989-8ae09ef6782c.png']"
     ]
    }
   ],
   "source": [
    "for row in datalist[1:]:\n",
    "    temp_tablet, _ = Tablet.objects.get_or_create(text_reference=row[1])\n",
    "    try:\n",
    "        temp_sign, _ = Sign.objects.get_or_create(sign_name=row[2])\n",
    "        temp_glyph, _ = Glyph.objects.get_or_create(identifier=row[0], sign=temp_sign)\n",
    "        temp_glyph.tablet = temp_tablet\n",
    "        #temp_glyph.sign = temp_sign\n",
    "        temp_glyph.reading = row[3]\n",
    "        temp_glyph.context = row[4]\n",
    "        temp_glyph.note = row[5]\n",
    "        temp_glyph.image = \"glyph_img/{}\".format(row[6])\n",
    "        temp_glyph.save()\n",
    "    except:\n",
    "        print(row)\n",
    "    "
   ]
  },
  {
   "cell_type": "code",
   "execution_count": null,
   "metadata": {
    "collapsed": true
   },
   "outputs": [],
   "source": [
    "for x in Glyph.objects.all():\n",
    "    x.delete()"
   ]
  },
  {
   "cell_type": "code",
   "execution_count": null,
   "metadata": {
    "collapsed": true
   },
   "outputs": [],
   "source": []
  }
 ],
 "metadata": {
  "kernelspec": {
   "display_name": "Django Shell-Plus",
   "language": "python",
   "name": "django_extensions"
  },
  "language_info": {
   "codemirror_mode": {
    "name": "ipython",
    "version": 3
   },
   "file_extension": ".py",
   "mimetype": "text/x-python",
   "name": "python",
   "nbconvert_exporter": "python",
   "pygments_lexer": "ipython3",
   "version": "3.4.4"
  }
 },
 "nbformat": 4,
 "nbformat_minor": 0
}
