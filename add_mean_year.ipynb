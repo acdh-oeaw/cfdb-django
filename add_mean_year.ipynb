{
 "cells": [
  {
   "cell_type": "code",
   "execution_count": 1,
   "metadata": {
    "collapsed": false
   },
   "outputs": [
    {
     "data": {
      "text/plain": [
       "577"
      ]
     },
     "execution_count": 1,
     "metadata": {},
     "output_type": "execute_result"
    }
   ],
   "source": [
    "tablets = Tablet.objects.all()\n",
    "len(tablets)"
   ]
  },
  {
   "cell_type": "code",
   "execution_count": 5,
   "metadata": {
    "collapsed": false
   },
   "outputs": [
    {
     "data": {
      "text/plain": [
       "36"
      ]
     },
     "execution_count": 5,
     "metadata": {},
     "output_type": "execute_result"
    }
   ],
   "source": [
    "no_year = [x for x in tablets if x.year is None]\n",
    "len(no_year)"
   ]
  },
  {
   "cell_type": "code",
   "execution_count": 7,
   "metadata": {
    "collapsed": false
   },
   "outputs": [
    {
     "data": {
      "text/plain": [
       "499"
      ]
     },
     "execution_count": 7,
     "metadata": {},
     "output_type": "execute_result"
    }
   ],
   "source": [
    "no_year[3].id"
   ]
  },
  {
   "cell_type": "code",
   "execution_count": 24,
   "metadata": {
    "collapsed": false
   },
   "outputs": [
    {
     "name": "stdout",
     "output_type": "stream",
     "text": [
      "750\n",
      "334\n",
      "334\n",
      "334\n",
      "334\n",
      "334\n",
      "334\n",
      "334\n",
      "334\n",
      "334\n",
      "334\n",
      "314\n",
      "334\n",
      "334\n",
      "334\n",
      "334\n",
      "334\n",
      "334\n",
      "334\n",
      "334\n",
      "334\n",
      "334\n",
      "53\n",
      "67\n",
      "68\n",
      "69\n",
      "69\n",
      "71\n",
      "72\n",
      "78\n",
      "82\n",
      "85\n",
      "86\n",
      "92\n",
      "103\n",
      "114\n",
      "131\n",
      "134\n",
      "136\n",
      "137\n",
      "165\n",
      "166\n",
      "182\n",
      "184\n",
      "48\n",
      "48\n",
      "50\n",
      "750\n",
      "261\n",
      "254\n",
      "258\n",
      "263\n",
      "259\n",
      "750\n",
      "123\n",
      "82\n",
      "111\n",
      "69\n",
      "144\n",
      "152\n",
      "750\n",
      "750\n",
      "750\n",
      "307\n",
      "313\n",
      "750\n",
      "750\n",
      "287\n",
      "750\n",
      "750\n",
      "750\n",
      "334\n",
      "334\n",
      "334\n",
      "334\n",
      "334\n",
      "334\n",
      "334\n",
      "334\n",
      "334\n",
      "118\n",
      "261\n",
      "268\n",
      "750\n",
      "750\n",
      "278\n",
      "750\n",
      "750\n",
      "750\n",
      "313\n",
      "313\n"
     ]
    }
   ],
   "source": [
    "for x in no_year:\n",
    "    calculated_year = (x.date_not_after+x.date_not_before)/2    \n",
    "    x.year = calculated_year\n",
    "    x.save()\n",
    "    #print(int(calculated_year))"
   ]
  },
  {
   "cell_type": "code",
   "execution_count": null,
   "metadata": {
    "collapsed": true
   },
   "outputs": [],
   "source": []
  }
 ],
 "metadata": {
  "kernelspec": {
   "display_name": "Django Shell-Plus",
   "language": "python",
   "name": "django_extensions"
  },
  "language_info": {
   "codemirror_mode": {
    "name": "ipython",
    "version": 3
   },
   "file_extension": ".py",
   "mimetype": "text/x-python",
   "name": "python",
   "nbconvert_exporter": "python",
   "pygments_lexer": "ipython3",
   "version": "3.4.4"
  }
 },
 "nbformat": 4,
 "nbformat_minor": 0
}
